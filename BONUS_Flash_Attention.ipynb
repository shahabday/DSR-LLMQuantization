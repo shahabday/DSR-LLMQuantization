{
  "cells": [
    {
      "cell_type": "markdown",
      "metadata": {
        "id": "view-in-github",
        "colab_type": "text"
      },
      "source": [
        "<a href=\"https://colab.research.google.com/github/shahabday/DSR-LLMQuantization/blob/main/BONUS_Flash_Attention.ipynb\" target=\"_parent\"><img src=\"https://colab.research.google.com/assets/colab-badge.svg\" alt=\"Open In Colab\"/></a>"
      ]
    },
    {
      "cell_type": "code",
      "execution_count": null,
      "id": "1d401174",
      "metadata": {
        "id": "1d401174"
      },
      "outputs": [],
      "source": [
        "import torch\n",
        "import torch.nn.functional as F"
      ]
    },
    {
      "cell_type": "markdown",
      "id": "680e115d",
      "metadata": {
        "id": "680e115d"
      },
      "source": [
        "## Logits and Softmax\n",
        "\n",
        "$$\n",
        "\\Large\n",
        "\\text{softmax}(z_i) = \\frac{e^{z_i}}{\\sum_{j=1}^Ce^{z_j}}\n",
        "$$"
      ]
    },
    {
      "cell_type": "code",
      "execution_count": null,
      "id": "dc102d7b",
      "metadata": {
        "colab": {
          "base_uri": "https://localhost:8080/"
        },
        "id": "dc102d7b",
        "outputId": "2dc1fd71-20c8-4449-855f-14ab0f02db86"
      },
      "outputs": [
        {
          "output_type": "execute_result",
          "data": {
            "text/plain": [
              "tensor([[0.0214, 0.0581, 0.1578, 0.7074, 0.0475, 0.0079]])"
            ]
          },
          "metadata": {},
          "execution_count": 2
        }
      ],
      "source": [
        "x = torch.tensor([[1, 2, 3, 4.5, 1.8, 0]]).float()\n",
        "F.softmax(x, dim=1)"
      ]
    },
    {
      "cell_type": "code",
      "execution_count": null,
      "id": "6ad7862f",
      "metadata": {
        "id": "6ad7862f"
      },
      "outputs": [],
      "source": [
        "def naive_softmax(x):\n",
        "    expx = torch.exp(x)\n",
        "    return expx/expx.sum(axis=1, keepdim=True)"
      ]
    },
    {
      "cell_type": "code",
      "execution_count": null,
      "id": "5d695def",
      "metadata": {
        "colab": {
          "base_uri": "https://localhost:8080/"
        },
        "id": "5d695def",
        "outputId": "7d612f17-f646-425f-d45c-19fb86e851b1"
      },
      "outputs": [
        {
          "output_type": "execute_result",
          "data": {
            "text/plain": [
              "tensor([[0.0214, 0.0581, 0.1578, 0.7074, 0.0475, 0.0079]])"
            ]
          },
          "metadata": {},
          "execution_count": 4
        }
      ],
      "source": [
        "naive_softmax(x)"
      ]
    },
    {
      "cell_type": "markdown",
      "id": "3fd0183e",
      "metadata": {
        "id": "3fd0183e"
      },
      "source": [
        "### Safe Softmax\n",
        "\n",
        "$$\n",
        "\\Large\n",
        "m = \\text{max}(x)\n",
        "\\\\\n",
        "\\Large\n",
        "\\text{expx}_i = e^{x_i-m}\n",
        "\\\\\n",
        "\\Large\n",
        "\\text{sumexp} = \\sum_{j=1}^Ce^{x_j-m} = \\sum_{j=1}^C\\text{expx}_j\n",
        "\\\\\n",
        "\\Large\n",
        "\\text{softmax}(x_i) = \\frac{\\text{expx}_i}{\\text{sumexp}}\n",
        "$$\n",
        "\n",
        "Subtracting the tensor's max value ensures the exp function won't explode."
      ]
    },
    {
      "cell_type": "code",
      "execution_count": null,
      "id": "db6c6881",
      "metadata": {
        "id": "db6c6881"
      },
      "outputs": [],
      "source": [
        "def safe_softmax(x, memory=False):\n",
        "    m = x.max(axis=1, keepdim=True).values\n",
        "    expx = torch.exp(x-m)\n",
        "    if memory:\n",
        "        return expx, m, expx.sum(axis=1, keepdims=True)\n",
        "    else:\n",
        "        return expx/expx.sum(axis=1, keepdims=True)"
      ]
    },
    {
      "cell_type": "code",
      "execution_count": null,
      "id": "9f372128",
      "metadata": {
        "colab": {
          "base_uri": "https://localhost:8080/"
        },
        "id": "9f372128",
        "outputId": "443d3162-417c-44e6-ee74-ec25ee584638"
      },
      "outputs": [
        {
          "output_type": "execute_result",
          "data": {
            "text/plain": [
              "tensor([[0.0214, 0.0581, 0.1578, 0.7074, 0.0475, 0.0079]])"
            ]
          },
          "metadata": {},
          "execution_count": 8
        }
      ],
      "source": [
        "safe_softmax(x)"
      ]
    },
    {
      "cell_type": "markdown",
      "id": "ba92ce44",
      "metadata": {
        "id": "ba92ce44"
      },
      "source": [
        "The `memory` argument returns the \"ingredients\": max value, exponentiated values, and their sum."
      ]
    },
    {
      "cell_type": "code",
      "execution_count": null,
      "id": "7f0c9f14",
      "metadata": {
        "colab": {
          "base_uri": "https://localhost:8080/"
        },
        "id": "7f0c9f14",
        "outputId": "179b0ee1-ad01-4c70-e08f-ef14c8e203bd"
      },
      "outputs": [
        {
          "output_type": "execute_result",
          "data": {
            "text/plain": [
              "(tensor([[0.0302, 0.0821, 0.2231, 1.0000, 0.0672, 0.0111]]),\n",
              " tensor([[4.5000]]),\n",
              " tensor([[1.4137]]),\n",
              " tensor([[0.0214, 0.0581, 0.1578, 0.7074, 0.0475, 0.0079]]))"
            ]
          },
          "metadata": {},
          "execution_count": 9
        }
      ],
      "source": [
        "expx, m, expxsum = safe_softmax(x, memory=True)\n",
        "expx, m, expxsum, expx/expxsum"
      ]
    },
    {
      "cell_type": "markdown",
      "id": "5c99d040",
      "metadata": {
        "id": "5c99d040"
      },
      "source": [
        "### Online Softmax\n",
        "\n",
        "We can use these ingredients to implement the online (batch) softmax, where maximums and sums are adjusted for every batch:"
      ]
    },
    {
      "cell_type": "code",
      "execution_count": null,
      "id": "3a95b111",
      "metadata": {
        "id": "3a95b111"
      },
      "outputs": [],
      "source": [
        "def online_softmax(x, mi=None, si=None):\n",
        "    m = x.max(axis=1, keepdim=True).values\n",
        "    if mi is not None:\n",
        "        m = torch.maximum(m, mi)\n",
        "    expx = torch.exp(x-m)\n",
        "    s = expx.sum(axis=1, keepdim=True)\n",
        "    if si is not None:\n",
        "        # if the new batch has a higher max value\n",
        "        # m > mi, then it adjusts the previous sum\n",
        "        # if the new batch has a lower max value\n",
        "        # m = mi, then it multiplies by 1\n",
        "        s = s + si*torch.exp(mi-m)\n",
        "    return m, s"
      ]
    },
    {
      "cell_type": "markdown",
      "id": "16fdd666",
      "metadata": {
        "id": "16fdd666"
      },
      "source": [
        "$$\n",
        "\\Large\n",
        "\\text{sumexp} = \\sum_{j=1}^Ce^{x_j-m_0} = \\sum_{j=1}^C\\frac{e^{x_j}}{e^{m}}\n",
        "\\\\\n",
        "\\Large\n",
        "m > m_i \\implies m_i - m < 0 \\implies e^{m_i-m} < 1\n",
        "$$"
      ]
    },
    {
      "cell_type": "code",
      "execution_count": null,
      "id": "9f359e83",
      "metadata": {
        "colab": {
          "base_uri": "https://localhost:8080/"
        },
        "id": "9f359e83",
        "outputId": "bc33e856-60ac-4cce-aec1-a401adff98ee"
      },
      "outputs": [
        {
          "output_type": "execute_result",
          "data": {
            "text/plain": [
              "(tensor([[0.0302, 0.0821, 0.2231, 1.0000, 0.0672, 0.0111]]),\n",
              " tensor([[1.4137]]),\n",
              " tensor([[0.0214, 0.0581, 0.1578, 0.7074, 0.0475, 0.0079]]))"
            ]
          },
          "metadata": {},
          "execution_count": 11
        }
      ],
      "source": [
        "m0, s0 = online_softmax(x[:, :2])\n",
        "m1, s1 = online_softmax(x[:, 2:4], m0, s0)\n",
        "m2, s2 = online_softmax(x[:, 4:], m1, s1)\n",
        "torch.exp(x-m2), s2, torch.exp(x-m2)/s2"
      ]
    },
    {
      "cell_type": "markdown",
      "id": "dd0ee0bc",
      "metadata": {
        "id": "dd0ee0bc"
      },
      "source": [
        "### Tiled Softmax\n",
        "\n",
        "We can split the input tensor into tiles."
      ]
    },
    {
      "cell_type": "code",
      "execution_count": null,
      "id": "d61b05fe",
      "metadata": {
        "colab": {
          "base_uri": "https://localhost:8080/"
        },
        "id": "d61b05fe",
        "outputId": "e71d5e2a-96ae-46a6-ac57-21b82e6cc09f"
      },
      "outputs": [
        {
          "output_type": "execute_result",
          "data": {
            "text/plain": [
              "(tensor([[1., 2.]]), tensor([[3.0000, 4.5000]]), tensor([[1.8000, 0.0000]]))"
            ]
          },
          "metadata": {},
          "execution_count": 12
        }
      ],
      "source": [
        "tiles = torch.split(x, 2, 1)\n",
        "tiles"
      ]
    },
    {
      "cell_type": "markdown",
      "id": "ee73c8af",
      "metadata": {
        "id": "ee73c8af"
      },
      "source": [
        "Then, we compute the \"ingredients\" for every tile:"
      ]
    },
    {
      "cell_type": "code",
      "execution_count": null,
      "id": "463a58e2",
      "metadata": {
        "id": "463a58e2"
      },
      "outputs": [],
      "source": [
        "f0, m0, s0 = safe_softmax(tiles[0], True)\n",
        "f1, m1, s1 = safe_softmax(tiles[1], True)\n",
        "f2, m2, s2 = safe_softmax(tiles[2], True)"
      ]
    },
    {
      "cell_type": "code",
      "execution_count": null,
      "id": "9df02c9b",
      "metadata": {
        "id": "9df02c9b"
      },
      "outputs": [],
      "source": [
        "fs = torch.hstack([f0, f1, f2])\n",
        "ms = torch.hstack([m0, m1, m2])\n",
        "ss = torch.hstack([s0, s1, s2])"
      ]
    },
    {
      "cell_type": "code",
      "execution_count": null,
      "id": "62056d3c",
      "metadata": {
        "colab": {
          "base_uri": "https://localhost:8080/"
        },
        "id": "62056d3c",
        "outputId": "c5044735-6961-417e-f706-812e44b9086b"
      },
      "outputs": [
        {
          "output_type": "execute_result",
          "data": {
            "text/plain": [
              "(tensor([[2.0000, 4.5000, 1.8000]]),\n",
              " tensor([[0.3679, 1.0000, 0.2231, 1.0000, 1.0000, 0.1653]]),\n",
              " tensor([[1.3679, 1.2231, 1.1653]]))"
            ]
          },
          "metadata": {},
          "execution_count": 17
        }
      ],
      "source": [
        "ms, fs, ss"
      ]
    },
    {
      "cell_type": "markdown",
      "id": "f8795711",
      "metadata": {
        "id": "f8795711"
      },
      "source": [
        "We aggregate the maximums together to compute the adjusting multipliers:\n",
        "\n",
        "$$\n",
        "\\Large\n",
        "\\text{factors} = \\left(e^{m_0-\\text{max}(m_0,m_1,m_2)},e^{m_1-\\text{max}(m_0,m_1,m_2)},e^{m_2-\\text{max}(m_0,m_1,m_2)}\\right)\n",
        "$$"
      ]
    },
    {
      "cell_type": "code",
      "execution_count": null,
      "id": "6c448038",
      "metadata": {
        "colab": {
          "base_uri": "https://localhost:8080/"
        },
        "id": "6c448038",
        "outputId": "35f04115-a111-4e7e-b2c8-26734a862cf5"
      },
      "outputs": [
        {
          "output_type": "execute_result",
          "data": {
            "text/plain": [
              "tensor([[0.0821, 1.0000, 0.0672]])"
            ]
          },
          "metadata": {},
          "execution_count": 18
        }
      ],
      "source": [
        "factors = torch.exp(ms - ms.max())\n",
        "factors"
      ]
    },
    {
      "cell_type": "code",
      "execution_count": null,
      "id": "d352ea5a",
      "metadata": {
        "colab": {
          "base_uri": "https://localhost:8080/"
        },
        "id": "d352ea5a",
        "outputId": "eaed166e-7327-4d2d-e8be-92d69a98a03c"
      },
      "outputs": [
        {
          "output_type": "execute_result",
          "data": {
            "text/plain": [
              "(tensor([[1.3679, 1.2231, 1.1653]]),\n",
              " tensor([[0.0821, 1.0000, 0.0672]]),\n",
              " tensor([[0.1123, 1.2231, 0.0783]]))"
            ]
          },
          "metadata": {},
          "execution_count": 19
        }
      ],
      "source": [
        "ss, factors, factors*ss"
      ]
    },
    {
      "cell_type": "markdown",
      "id": "1a504d8b",
      "metadata": {
        "id": "1a504d8b"
      },
      "source": [
        "Then we can use these factors to adjust and sum up the sums (softmax's denominator):\n",
        "\n",
        "$$\n",
        "\\Large\n",
        "\\text{denom} = \\text{sumexp}_0\\text{factor}_0 + \\text{sumexp}_1\\text{factor}_1 + \\text{sumexp}_2\\text{factor}_2\n",
        "$$"
      ]
    },
    {
      "cell_type": "code",
      "execution_count": null,
      "id": "6bf4112e",
      "metadata": {
        "colab": {
          "base_uri": "https://localhost:8080/"
        },
        "id": "6bf4112e",
        "outputId": "b3c567f7-0c74-43df-ae10-e7d6e474ea45"
      },
      "outputs": [
        {
          "output_type": "execute_result",
          "data": {
            "text/plain": [
              "tensor(1.4137)"
            ]
          },
          "metadata": {},
          "execution_count": 20
        }
      ],
      "source": [
        "denom = (factors*ss).sum()\n",
        "denom"
      ]
    },
    {
      "cell_type": "markdown",
      "id": "e92099e8",
      "metadata": {
        "id": "e92099e8"
      },
      "source": [
        "We also have to adjust the exponentiations (numerators):"
      ]
    },
    {
      "cell_type": "code",
      "execution_count": null,
      "id": "83d0eeb4",
      "metadata": {
        "colab": {
          "base_uri": "https://localhost:8080/"
        },
        "id": "83d0eeb4",
        "outputId": "a7e5644f-3f03-46ff-c4b2-4eac0d639d3e"
      },
      "outputs": [
        {
          "output_type": "execute_result",
          "data": {
            "text/plain": [
              "(tensor([[0.0821, 0.0821, 1.0000, 1.0000, 0.0672, 0.0672]]),\n",
              " tensor([[0.3679, 1.0000, 0.2231, 1.0000, 1.0000, 0.1653]]))"
            ]
          },
          "metadata": {},
          "execution_count": 22
        }
      ],
      "source": [
        "n = tiles[0].shape[-1] # number of elements in each tile\n",
        "tiled_factors = factors.repeat_interleave(n, 1)\n",
        "tiled_factors, fs"
      ]
    },
    {
      "cell_type": "code",
      "execution_count": null,
      "id": "8bbe99b5",
      "metadata": {
        "colab": {
          "base_uri": "https://localhost:8080/"
        },
        "id": "8bbe99b5",
        "outputId": "86ab7c1a-a12e-47e9-ae12-e06300518ec0"
      },
      "outputs": [
        {
          "output_type": "execute_result",
          "data": {
            "text/plain": [
              "tensor([[0.0302, 0.0821, 0.2231, 1.0000, 0.0672, 0.0111]])"
            ]
          },
          "metadata": {},
          "execution_count": 23
        }
      ],
      "source": [
        "numer = tiled_factors*fs\n",
        "numer"
      ]
    },
    {
      "cell_type": "markdown",
      "id": "6fe371f7",
      "metadata": {
        "id": "6fe371f7"
      },
      "source": [
        "Here is the resulting softmax:"
      ]
    },
    {
      "cell_type": "code",
      "execution_count": null,
      "id": "8b92c8b2",
      "metadata": {
        "colab": {
          "base_uri": "https://localhost:8080/"
        },
        "id": "8b92c8b2",
        "outputId": "fc759db1-22b9-4fbe-f106-c8212444d9c0"
      },
      "outputs": [
        {
          "output_type": "execute_result",
          "data": {
            "text/plain": [
              "tensor([[0.0214, 0.0581, 0.1578, 0.7074, 0.0475, 0.0079]])"
            ]
          },
          "metadata": {},
          "execution_count": 24
        }
      ],
      "source": [
        "numer/denom"
      ]
    },
    {
      "cell_type": "markdown",
      "id": "959c533f",
      "metadata": {
        "id": "959c533f"
      },
      "source": [
        "## Regular Attention\n",
        "\n",
        "$$\n",
        "\\Large\n",
        "\\text{attention}=\\text{softmax}\\left(\\frac{Q \\cdot K^T}{\\sqrt{d_k}}\\right)\\cdot V\n",
        "$$"
      ]
    },
    {
      "cell_type": "code",
      "execution_count": null,
      "id": "62f81d37",
      "metadata": {
        "id": "62f81d37"
      },
      "outputs": [],
      "source": [
        "import numpy as np\n",
        "\n",
        "def naive_softmax(x):\n",
        "    expx = np.exp(x)\n",
        "    return expx/expx.sum(axis=1, keepdims=True)\n",
        "\n",
        "N, d = 4, 8  # Example dimensions - batch size, hidden dimensions\n",
        "\n",
        "np.random.seed(35)\n",
        "Q = np.random.rand(N, d)  # Example matrix Q\n",
        "K = np.random.rand(N, d)  # Example matrix K\n",
        "V = np.random.rand(N, d)  # Example matrix V"
      ]
    },
    {
      "cell_type": "code",
      "execution_count": null,
      "id": "a4104692",
      "metadata": {
        "colab": {
          "base_uri": "https://localhost:8080/"
        },
        "id": "a4104692",
        "outputId": "045f6f61-b330-46f6-d738-03e6399d51eb"
      },
      "outputs": [
        {
          "output_type": "execute_result",
          "data": {
            "text/plain": [
              "array([[0.30685401, 0.48892522, 0.51084285, 0.7089212 , 0.499922  ,\n",
              "        0.44842117, 0.39609549, 0.33958129],\n",
              "       [0.30520985, 0.46706403, 0.51787088, 0.7027851 , 0.50071816,\n",
              "        0.46003932, 0.3905262 , 0.34611217],\n",
              "       [0.29940654, 0.45656683, 0.51468743, 0.70210537, 0.4998878 ,\n",
              "        0.4630266 , 0.39324783, 0.35211962],\n",
              "       [0.30492672, 0.48038083, 0.51366597, 0.71231235, 0.50048432,\n",
              "        0.45614122, 0.39000782, 0.33817095]])"
            ]
          },
          "metadata": {},
          "execution_count": 26
        }
      ],
      "source": [
        "P = np.matmul(Q, K.T)\n",
        "S = naive_softmax(P/np.sqrt(d))\n",
        "att_out = np.matmul(S, V)\n",
        "att_out"
      ]
    },
    {
      "cell_type": "code",
      "execution_count": null,
      "id": "af3176f8",
      "metadata": {
        "colab": {
          "base_uri": "https://localhost:8080/"
        },
        "id": "af3176f8",
        "outputId": "6b90a656-de48-4419-e50f-f0b524981e78"
      },
      "outputs": [
        {
          "output_type": "execute_result",
          "data": {
            "text/plain": [
              "((4, 4), (4, 4), (4, 8))"
            ]
          },
          "metadata": {},
          "execution_count": 27
        }
      ],
      "source": [
        "P.shape, S.shape, att_out.shape # total 64"
      ]
    },
    {
      "cell_type": "markdown",
      "id": "bfc6bf2b",
      "metadata": {
        "id": "bfc6bf2b"
      },
      "source": [
        "## Flash Attention"
      ]
    },
    {
      "cell_type": "markdown",
      "id": "d6222139",
      "metadata": {
        "id": "d6222139"
      },
      "source": [
        "It starts by splitting Q, K, and V into smaller blocks:"
      ]
    },
    {
      "cell_type": "code",
      "execution_count": null,
      "id": "45baf324",
      "metadata": {
        "id": "45baf324"
      },
      "outputs": [],
      "source": [
        "Tr = 4\n",
        "Tc = 2\n",
        "\n",
        "Q_blocks = np.array_split(Q, Tr)\n",
        "K_blocks = np.array_split(K, Tc)\n",
        "V_blocks = np.array_split(V, Tc)"
      ]
    },
    {
      "cell_type": "code",
      "execution_count": null,
      "id": "e7c2a4f8",
      "metadata": {
        "colab": {
          "base_uri": "https://localhost:8080/"
        },
        "id": "e7c2a4f8",
        "outputId": "0bfa4207-8ebf-4ef2-c3c2-4837c83db357"
      },
      "outputs": [
        {
          "output_type": "execute_result",
          "data": {
            "text/plain": [
              "(4, 2, 2)"
            ]
          },
          "metadata": {},
          "execution_count": 47
        }
      ],
      "source": [
        "n_Q = len(Q_blocks)\n",
        "n_K = len(K_blocks)\n",
        "n_V = len(V_blocks)\n",
        "n_Q, n_K, n_V"
      ]
    },
    {
      "cell_type": "code",
      "execution_count": null,
      "id": "f17dfa91",
      "metadata": {
        "colab": {
          "base_uri": "https://localhost:8080/"
        },
        "id": "f17dfa91",
        "outputId": "9470c03c-f907-4180-f037-874e5e93459a"
      },
      "outputs": [
        {
          "output_type": "execute_result",
          "data": {
            "text/plain": [
              "(array([[0.45805495, 0.30834961, 0.23148705, 0.27742455, 0.81723481,\n",
              "         0.11134664, 0.62643723, 0.27678789],\n",
              "        [0.68217467, 0.67897078, 0.79671742, 0.04580216, 0.91259827,\n",
              "         0.21381599, 0.3036373 , 0.98906362],\n",
              "        [0.1858815 , 0.98872484, 0.75008423, 0.22238605, 0.14790391,\n",
              "         0.51579028, 0.39425832, 0.06988013],\n",
              "        [0.33822577, 0.01103722, 0.76752786, 0.87472213, 0.53359432,\n",
              "         0.08441275, 0.8243312 , 0.5045812 ]]),\n",
              " [array([[0.45805495, 0.30834961, 0.23148705, 0.27742455, 0.81723481,\n",
              "          0.11134664, 0.62643723, 0.27678789]]),\n",
              "  array([[0.68217467, 0.67897078, 0.79671742, 0.04580216, 0.91259827,\n",
              "          0.21381599, 0.3036373 , 0.98906362]]),\n",
              "  array([[0.1858815 , 0.98872484, 0.75008423, 0.22238605, 0.14790391,\n",
              "          0.51579028, 0.39425832, 0.06988013]]),\n",
              "  array([[0.33822577, 0.01103722, 0.76752786, 0.87472213, 0.53359432,\n",
              "          0.08441275, 0.8243312 , 0.5045812 ]])])"
            ]
          },
          "metadata": {},
          "execution_count": 48
        }
      ],
      "source": [
        "Q, Q_blocks"
      ]
    },
    {
      "cell_type": "code",
      "execution_count": null,
      "id": "9a985bbe",
      "metadata": {
        "colab": {
          "base_uri": "https://localhost:8080/"
        },
        "id": "9a985bbe",
        "outputId": "04ff8ffa-ef8f-4ed3-d740-4cff666ff36a"
      },
      "outputs": [
        {
          "output_type": "execute_result",
          "data": {
            "text/plain": [
              "(array([[0.88161863, 0.17404628, 0.40295789, 0.83212654, 0.97866247,\n",
              "         0.61916477, 0.86992066, 0.2488769 ],\n",
              "        [0.64303396, 0.30045066, 0.24536055, 0.54602368, 0.11976084,\n",
              "         0.34309671, 0.63178697, 0.83155192],\n",
              "        [0.35538789, 0.23541176, 0.80203533, 0.60371286, 0.49363014,\n",
              "         0.93305116, 0.65311175, 0.67884942],\n",
              "        [0.31165887, 0.12014239, 0.15491823, 0.76611197, 0.51250289,\n",
              "         0.46160397, 0.75266263, 0.95110633]]),\n",
              " [array([[0.88161863, 0.17404628, 0.40295789, 0.83212654, 0.97866247,\n",
              "          0.61916477, 0.86992066, 0.2488769 ],\n",
              "         [0.64303396, 0.30045066, 0.24536055, 0.54602368, 0.11976084,\n",
              "          0.34309671, 0.63178697, 0.83155192]]),\n",
              "  array([[0.35538789, 0.23541176, 0.80203533, 0.60371286, 0.49363014,\n",
              "          0.93305116, 0.65311175, 0.67884942],\n",
              "         [0.31165887, 0.12014239, 0.15491823, 0.76611197, 0.51250289,\n",
              "          0.46160397, 0.75266263, 0.95110633]])])"
            ]
          },
          "metadata": {},
          "execution_count": 49
        }
      ],
      "source": [
        "K, K_blocks"
      ]
    },
    {
      "cell_type": "markdown",
      "id": "0b63c5c6",
      "metadata": {
        "id": "0b63c5c6"
      },
      "source": [
        "For every Q block, the memory is reset, and every combination of K and V blocks is used to compute attention values incrementally:"
      ]
    },
    {
      "cell_type": "code",
      "execution_count": null,
      "id": "627bc382",
      "metadata": {
        "colab": {
          "base_uri": "https://localhost:8080/"
        },
        "id": "627bc382",
        "outputId": "657d7b11-9fa6-4a8a-c762-7cb79e93f0c0"
      },
      "outputs": [
        {
          "output_type": "stream",
          "name": "stdout",
          "text": [
            "(1, 1) (1, 8)\n"
          ]
        }
      ],
      "source": [
        "max_acc = np.zeros((len(Q_blocks[0]), 1))\n",
        "output_acc = np.zeros_like(Q_blocks[0])\n",
        "\n",
        "print(max_acc.shape, output_acc.shape) # initial 9\n",
        "\n",
        "def accumulate_sync(Q, K, V, restart=False):\n",
        "    global output_acc, scaling_acc, max_acc\n",
        "\n",
        "    if restart:\n",
        "        output_acc = np.zeros_like(Q_blocks[0])\n",
        "        scaling_acc = np.zeros((len(Q_blocks[0]), 1))\n",
        "        max_acc = np.zeros((len(Q_blocks[0]), 1))\n",
        "\n",
        "    S = np.matmul(Q, K.T)/np.sqrt(d)\n",
        "\n",
        "    smax = S.max(axis=1, keepdims=True)\n",
        "\n",
        "    P = np.exp(S-smax)\n",
        "    # numerator = np.matmul(P, V)\n",
        "    s_new = P.sum(axis=1, keepdims=True)\n",
        "\n",
        "    max_new = np.maximum(smax, max_acc)\n",
        "\n",
        "    scaling_new = (scaling_acc*np.exp(max_acc - max_new) + np.exp(smax - max_new)*s_new)\n",
        "\n",
        "    output_acc = (output_acc*scaling_acc*np.exp(max_acc - max_new) +\n",
        "                  np.exp(smax - max_new)*np.matmul(P, V))/scaling_new\n",
        "\n",
        "    scaling_acc = scaling_new\n",
        "    max_acc = max_new\n",
        "\n",
        "    print(S.shape, smax.shape, P.shape, s_new.shape, max_new.shape, scaling_new.shape)"
      ]
    },
    {
      "cell_type": "code",
      "execution_count": null,
      "id": "8cb18eb3",
      "metadata": {
        "colab": {
          "base_uri": "https://localhost:8080/"
        },
        "id": "8cb18eb3",
        "outputId": "4fd835d1-d6a3-4bed-a757-136002cb1a1d"
      },
      "outputs": [
        {
          "output_type": "stream",
          "name": "stdout",
          "text": [
            "(1, 2) (1, 1) (1, 2) (1, 1) (1, 1) (1, 1)\n",
            "(1, 2) (1, 1) (1, 2) (1, 1) (1, 1) (1, 1)\n",
            "[[0.30685401 0.48892522 0.51084285 0.7089212  0.499922   0.44842117\n",
            "  0.39609549 0.33958129]]\n",
            "(1, 2) (1, 1) (1, 2) (1, 1) (1, 1) (1, 1)\n",
            "(1, 2) (1, 1) (1, 2) (1, 1) (1, 1) (1, 1)\n",
            "[[0.30520985 0.46706403 0.51787088 0.7027851  0.50071816 0.46003932\n",
            "  0.3905262  0.34611217]]\n",
            "(1, 2) (1, 1) (1, 2) (1, 1) (1, 1) (1, 1)\n",
            "(1, 2) (1, 1) (1, 2) (1, 1) (1, 1) (1, 1)\n",
            "[[0.29940654 0.45656683 0.51468743 0.70210537 0.4998878  0.4630266\n",
            "  0.39324783 0.35211962]]\n",
            "(1, 2) (1, 1) (1, 2) (1, 1) (1, 1) (1, 1)\n",
            "(1, 2) (1, 1) (1, 2) (1, 1) (1, 1) (1, 1)\n",
            "[[0.30492672 0.48038083 0.51366597 0.71231235 0.50048432 0.45614122\n",
            "  0.39000782 0.33817095]]\n"
          ]
        }
      ],
      "source": [
        "for q in range(n_Q):\n",
        "    restart = True\n",
        "    for k in range(n_K):\n",
        "        accumulate_sync(Q_blocks[q], K_blocks[k], V_blocks[k], restart=restart) # 6 each time, total 15\n",
        "        restart = False\n",
        "    print(output_acc)"
      ]
    },
    {
      "cell_type": "code",
      "source": [],
      "metadata": {
        "id": "-MkbmgmnRewK"
      },
      "id": "-MkbmgmnRewK",
      "execution_count": null,
      "outputs": []
    }
  ],
  "metadata": {
    "kernelspec": {
      "display_name": "Python 3 (ipykernel)",
      "language": "python",
      "name": "python3"
    },
    "language_info": {
      "codemirror_mode": {
        "name": "ipython",
        "version": 3
      },
      "file_extension": ".py",
      "mimetype": "text/x-python",
      "name": "python",
      "nbconvert_exporter": "python",
      "pygments_lexer": "ipython3",
      "version": "3.9.0"
    },
    "colab": {
      "provenance": [],
      "include_colab_link": true
    }
  },
  "nbformat": 4,
  "nbformat_minor": 5
}